{
 "cells": [
  {
   "cell_type": "markdown",
   "metadata": {},
   "source": [
    "# Customer verification with voice"
   ]
  },
  {
   "cell_type": "markdown",
   "metadata": {},
   "source": [
    "Voice authentication, or voice biometrics, is one of the advanced ways of authentication used today. It is also considered one of the most secure means of identifying an individual.\n",
    "Traditional authentication methods, such as passwords or PINs, are susceptible to security risks like identity theft.\n",
    "Voice authentication has emerged as a promising solution to mitigate these risks by adding additional layers of protection."
   ]
  },
  {
   "cell_type": "markdown",
   "metadata": {},
   "source": [
    "Here are some of the advantages of using this technology:\n",
    "Enhanced security and fraud prevention\n",
    "One of the key advantages of voice authentication is its enhanced security and fraud prevention capabilities.\n",
    "Get the complete toolkit, free\n",
    "Learn more\n",
    "Unlike PINs, which can be easily forgotten, stolen, or shared, a person’s voice is a distinct and difficult-to-replicate feature. This technology significantly reduces the risk of unauthorized access and fraud.\n",
    "A good example is in HSBC UK, where telephone fraud was reduced by 50% upon voice authentication.\n",
    "\n",
    "Seamless user experience\n",
    "Through voice authentication, users can authenticate themselves simply by speaking, making it intuitive and convenient.\n",
    "Customers can securely access their banking information by speaking a passphrase rather than recalling a series of digits or answering security questions.\n",
    "\n",
    "Accessibility and inclusivity\n",
    "Voice authentication provides a more accessible and inclusive authentication solution than traditional methods.\n",
    "It enables individuals with disabilities to authenticate easily and effectively without relying on complex interfaces or physical actions.\n",
    "For instance, visually impaired individuals can independently access their smartphones, make payments, or interact with various devices through voice commands.\n",
    "Voice recognition systems, like biometric voice recognition system, play a pivotal role in making digital platforms more accessible to individuals with different abilities."
   ]
  },
  {
   "cell_type": "markdown",
   "metadata": {},
   "source": [
    "Disadvantages of voice authentication\n",
    "Despite its many advantages, voice authentication also comes with significant disadvantages:\n",
    "Voice authentication also has faults and challenges that businesses should be aware of. Here are some of them:\n",
    "Limitations in noisy environments\n",
    "One of the challenges of voice authentication is its sensitivity to background noise.\n",
    "In noisy environments, such as crowded areas or places with poor acoustics, the accuracy of voice analysis may be compromised. This leads to potential false rejections or acceptances.\n",
    "Vulnerability to voice replication techniques\n",
    "While voice biometrics are difficult to replicate, techniques like deepfake voice technology can imitate someone’s voice accurately.\n",
    "One drawback is the risk of voice sample being compromised or recorded without permission, raising privacy and security concerns.\n",
    "These methods pose a significant threat to voice authentication systems, especially with the rise of AI tools.\n",
    "It requires continuous advancements in voice analysis technology to counteract them effectively.\n",
    "Lack of standards and interoperability\n",
    "The lack of standardized protocols and widespread interoperability pose a challenge to adopting voice authentication across various platforms and devices.\n",
    "Organizations must ensure compatibility and integration with different systems, limiting their universal implementation.\n",
    "Ethical and privacy concerns\n",
    "Voice authentication collects and stores individuals’ biometric data, raising ethical and privacy concerns.\n",
    "Organizations must adhere to strict privacy regulations and secure storage practices to prevent unauthorized access or misuse of sensitive voice data.\n",
    "Transparency and clear user consent mechanisms are essential to address these concerns effectively.\n",
    "Potential errors in voice recognition\n",
    "Despite voice analysis algorithm advancements, voice recognition errors can still occur.\n",
    "Another challenge is the accuracy of speech recognition tech, with tone variations, background noise, or a cold impacting system’s user ID.\n",
    "Factors like changes in voice due to colds or other health conditions, emotional stress, or aging can impact the accuracy of voice authentication systems.\n",
    "Continuous improvements and refinements are necessary to minimize the occurrence of false rejections or acceptances."
   ]
  },
  {
   "cell_type": "markdown",
   "metadata": {},
   "source": [
    "https://www.computerweekly.com/news/252500302/HSBC-blocks-249m-in-UK-fraud-with-voice-biometrics\n",
    "\n",
    "HSBC said that telephone banking fraud has been reduced by 50% since the introduction of a biometric security system that authenticates customers through their voices.\n",
    "\n"
   ]
  },
  {
   "cell_type": "markdown",
   "metadata": {},
   "source": [
    "text dependent and text independant \n",
    "\n",
    "https://www.pingidentity.com/en/resources/blog/post/introducing-voice-verification.html"
   ]
  },
  {
   "cell_type": "code",
   "execution_count": 38,
   "metadata": {},
   "outputs": [],
   "source": [
    "#Standard Python Imports\n",
    "import pandas as pd\n",
    "import numpy as np\n",
    "import seaborn as sns\n",
    "import matplotlib.pyplot as plt\n",
    "\n",
    "#Model Creation/Evaluation Imports\n",
    "from sklearn.model_selection import train_test_split\n",
    "from sklearn.metrics import confusion_matrix, plot_confusion_matrix, classification_report\n",
    "from sklearn.preprocessing import StandardScaler, OneHotEncoder\n",
    "\n",
    "#Audio Data Manipulation Imports\n",
    "import random\n",
    "import IPython.display as ipd\n",
    "\n",
    "#File Path Navigation Import\n",
    "import os\n",
    "\n",
    "#Model Saving Import\n",
    "import pickle\n",
    "\n",
    "import os\n",
    "import torch\n",
    "import torchaudio\n",
    "import torchaudio.transforms as T\n",
    "import torch.nn.functional as F\n"
   ]
  },
  {
   "cell_type": "markdown",
   "metadata": {},
   "source": [
    "# Data"
   ]
  },
  {
   "cell_type": "code",
   "execution_count": 2,
   "metadata": {},
   "outputs": [],
   "source": [
    "def list_files_with_subfolders(base_path):\n",
    "    files_list = []\n",
    "    for root, dirs, files in os.walk(base_path):\n",
    "        for file_name in files:\n",
    "            subfolder_name = os.path.relpath(root, base_path)\n",
    "            files_list.append({'Folder': subfolder_name, 'File': file_name})\n",
    "    return files_list"
   ]
  },
  {
   "cell_type": "code",
   "execution_count": 3,
   "metadata": {},
   "outputs": [],
   "source": [
    "base_directory = 'data_raw'"
   ]
  },
  {
   "cell_type": "code",
   "execution_count": 4,
   "metadata": {},
   "outputs": [],
   "source": [
    "files_list = list_files_with_subfolders(base_directory)\n",
    "files_df = pd.DataFrame(files_list)"
   ]
  },
  {
   "cell_type": "code",
   "execution_count": 5,
   "metadata": {},
   "outputs": [
    {
     "data": {
      "text/plain": [
       "Folder\n",
       "zero                  4052\n",
       "five                  4052\n",
       "yes                   4044\n",
       "seven                 3998\n",
       "no                    3941\n",
       "nine                  3934\n",
       "down                  3917\n",
       "one                   3890\n",
       "go                    3880\n",
       "two                   3880\n",
       "stop                  3872\n",
       "six                   3860\n",
       "on                    3845\n",
       "left                  3801\n",
       "eight                 3787\n",
       "right                 3778\n",
       "off                   3745\n",
       "four                  3728\n",
       "three                 3727\n",
       "up                    3723\n",
       "dog                   2128\n",
       "wow                   2123\n",
       "house                 2113\n",
       "marvin                2100\n",
       "bird                  2064\n",
       "happy                 2054\n",
       "cat                   2031\n",
       "sheila                2022\n",
       "bed                   2014\n",
       "tree                  1759\n",
       "backward              1664\n",
       "visual                1592\n",
       "follow                1579\n",
       "learn                 1575\n",
       "forward               1557\n",
       "_background_noise_       7\n",
       ".                        5\n",
       "dtype: int64"
      ]
     },
     "execution_count": 5,
     "metadata": {},
     "output_type": "execute_result"
    }
   ],
   "source": [
    "files_df.value_counts('Folder')"
   ]
  },
  {
   "cell_type": "code",
   "execution_count": 6,
   "metadata": {},
   "outputs": [
    {
     "data": {
      "text/html": [
       "<div>\n",
       "<style scoped>\n",
       "    .dataframe tbody tr th:only-of-type {\n",
       "        vertical-align: middle;\n",
       "    }\n",
       "\n",
       "    .dataframe tbody tr th {\n",
       "        vertical-align: top;\n",
       "    }\n",
       "\n",
       "    .dataframe thead th {\n",
       "        text-align: right;\n",
       "    }\n",
       "</style>\n",
       "<table border=\"1\" class=\"dataframe\">\n",
       "  <thead>\n",
       "    <tr style=\"text-align: right;\">\n",
       "      <th></th>\n",
       "      <th>Folder</th>\n",
       "      <th>File</th>\n",
       "    </tr>\n",
       "  </thead>\n",
       "  <tbody>\n",
       "    <tr>\n",
       "      <th>0</th>\n",
       "      <td>.</td>\n",
       "      <td>.DS_Store</td>\n",
       "    </tr>\n",
       "    <tr>\n",
       "      <th>1</th>\n",
       "      <td>.</td>\n",
       "      <td>validation_list.txt</td>\n",
       "    </tr>\n",
       "    <tr>\n",
       "      <th>2</th>\n",
       "      <td>.</td>\n",
       "      <td>LICENSE</td>\n",
       "    </tr>\n",
       "    <tr>\n",
       "      <th>3</th>\n",
       "      <td>.</td>\n",
       "      <td>README.md</td>\n",
       "    </tr>\n",
       "    <tr>\n",
       "      <th>4</th>\n",
       "      <td>.</td>\n",
       "      <td>testing_list.txt</td>\n",
       "    </tr>\n",
       "    <tr>\n",
       "      <th>...</th>\n",
       "      <td>...</td>\n",
       "      <td>...</td>\n",
       "    </tr>\n",
       "    <tr>\n",
       "      <th>105836</th>\n",
       "      <td>four</td>\n",
       "      <td>25e95412_nohash_1.wav</td>\n",
       "    </tr>\n",
       "    <tr>\n",
       "      <th>105837</th>\n",
       "      <td>four</td>\n",
       "      <td>92521ccc_nohash_0.wav</td>\n",
       "    </tr>\n",
       "    <tr>\n",
       "      <th>105838</th>\n",
       "      <td>four</td>\n",
       "      <td>29dce108_nohash_0.wav</td>\n",
       "    </tr>\n",
       "    <tr>\n",
       "      <th>105839</th>\n",
       "      <td>four</td>\n",
       "      <td>c6389ab0_nohash_0.wav</td>\n",
       "    </tr>\n",
       "    <tr>\n",
       "      <th>105840</th>\n",
       "      <td>four</td>\n",
       "      <td>845f8553_nohash_4.wav</td>\n",
       "    </tr>\n",
       "  </tbody>\n",
       "</table>\n",
       "<p>105841 rows × 2 columns</p>\n",
       "</div>"
      ],
      "text/plain": [
       "       Folder                   File\n",
       "0           .              .DS_Store\n",
       "1           .    validation_list.txt\n",
       "2           .                LICENSE\n",
       "3           .              README.md\n",
       "4           .       testing_list.txt\n",
       "...       ...                    ...\n",
       "105836   four  25e95412_nohash_1.wav\n",
       "105837   four  92521ccc_nohash_0.wav\n",
       "105838   four  29dce108_nohash_0.wav\n",
       "105839   four  c6389ab0_nohash_0.wav\n",
       "105840   four  845f8553_nohash_4.wav\n",
       "\n",
       "[105841 rows x 2 columns]"
      ]
     },
     "execution_count": 6,
     "metadata": {},
     "output_type": "execute_result"
    }
   ],
   "source": [
    "files_df"
   ]
  },
  {
   "cell_type": "code",
   "execution_count": 7,
   "metadata": {},
   "outputs": [],
   "source": [
    "files_df = files_df[files_df['Folder'] != '.']"
   ]
  },
  {
   "cell_type": "code",
   "execution_count": 8,
   "metadata": {},
   "outputs": [
    {
     "data": {
      "text/html": [
       "<div>\n",
       "<style scoped>\n",
       "    .dataframe tbody tr th:only-of-type {\n",
       "        vertical-align: middle;\n",
       "    }\n",
       "\n",
       "    .dataframe tbody tr th {\n",
       "        vertical-align: top;\n",
       "    }\n",
       "\n",
       "    .dataframe thead th {\n",
       "        text-align: right;\n",
       "    }\n",
       "</style>\n",
       "<table border=\"1\" class=\"dataframe\">\n",
       "  <thead>\n",
       "    <tr style=\"text-align: right;\">\n",
       "      <th></th>\n",
       "      <th>Folder</th>\n",
       "      <th>File</th>\n",
       "    </tr>\n",
       "  </thead>\n",
       "  <tbody>\n",
       "    <tr>\n",
       "      <th>5</th>\n",
       "      <td>right</td>\n",
       "      <td>8e523821_nohash_2.wav</td>\n",
       "    </tr>\n",
       "    <tr>\n",
       "      <th>6</th>\n",
       "      <td>right</td>\n",
       "      <td>bb05582b_nohash_3.wav</td>\n",
       "    </tr>\n",
       "    <tr>\n",
       "      <th>7</th>\n",
       "      <td>right</td>\n",
       "      <td>988e2f9a_nohash_0.wav</td>\n",
       "    </tr>\n",
       "    <tr>\n",
       "      <th>8</th>\n",
       "      <td>right</td>\n",
       "      <td>a69b9b3e_nohash_0.wav</td>\n",
       "    </tr>\n",
       "    <tr>\n",
       "      <th>9</th>\n",
       "      <td>right</td>\n",
       "      <td>1eddce1d_nohash_3.wav</td>\n",
       "    </tr>\n",
       "    <tr>\n",
       "      <th>...</th>\n",
       "      <td>...</td>\n",
       "      <td>...</td>\n",
       "    </tr>\n",
       "    <tr>\n",
       "      <th>105836</th>\n",
       "      <td>four</td>\n",
       "      <td>25e95412_nohash_1.wav</td>\n",
       "    </tr>\n",
       "    <tr>\n",
       "      <th>105837</th>\n",
       "      <td>four</td>\n",
       "      <td>92521ccc_nohash_0.wav</td>\n",
       "    </tr>\n",
       "    <tr>\n",
       "      <th>105838</th>\n",
       "      <td>four</td>\n",
       "      <td>29dce108_nohash_0.wav</td>\n",
       "    </tr>\n",
       "    <tr>\n",
       "      <th>105839</th>\n",
       "      <td>four</td>\n",
       "      <td>c6389ab0_nohash_0.wav</td>\n",
       "    </tr>\n",
       "    <tr>\n",
       "      <th>105840</th>\n",
       "      <td>four</td>\n",
       "      <td>845f8553_nohash_4.wav</td>\n",
       "    </tr>\n",
       "  </tbody>\n",
       "</table>\n",
       "<p>105836 rows × 2 columns</p>\n",
       "</div>"
      ],
      "text/plain": [
       "       Folder                   File\n",
       "5       right  8e523821_nohash_2.wav\n",
       "6       right  bb05582b_nohash_3.wav\n",
       "7       right  988e2f9a_nohash_0.wav\n",
       "8       right  a69b9b3e_nohash_0.wav\n",
       "9       right  1eddce1d_nohash_3.wav\n",
       "...       ...                    ...\n",
       "105836   four  25e95412_nohash_1.wav\n",
       "105837   four  92521ccc_nohash_0.wav\n",
       "105838   four  29dce108_nohash_0.wav\n",
       "105839   four  c6389ab0_nohash_0.wav\n",
       "105840   four  845f8553_nohash_4.wav\n",
       "\n",
       "[105836 rows x 2 columns]"
      ]
     },
     "execution_count": 8,
     "metadata": {},
     "output_type": "execute_result"
    }
   ],
   "source": [
    "files_df"
   ]
  },
  {
   "cell_type": "code",
   "execution_count": 9,
   "metadata": {},
   "outputs": [
    {
     "name": "stderr",
     "output_type": "stream",
     "text": [
      "<ipython-input-9-4ee925372c93>:1: SettingWithCopyWarning: \n",
      "A value is trying to be set on a copy of a slice from a DataFrame.\n",
      "Try using .loc[row_indexer,col_indexer] = value instead\n",
      "\n",
      "See the caveats in the documentation: https://pandas.pydata.org/pandas-docs/stable/user_guide/indexing.html#returning-a-view-versus-a-copy\n",
      "  files_df['UserID'] = files_df['File'].apply(lambda x: x.split('_')[0])\n"
     ]
    }
   ],
   "source": [
    "files_df['UserID'] = files_df['File'].apply(lambda x: x.split('_')[0])"
   ]
  },
  {
   "cell_type": "code",
   "execution_count": 10,
   "metadata": {},
   "outputs": [
    {
     "data": {
      "text/html": [
       "<div>\n",
       "<style scoped>\n",
       "    .dataframe tbody tr th:only-of-type {\n",
       "        vertical-align: middle;\n",
       "    }\n",
       "\n",
       "    .dataframe tbody tr th {\n",
       "        vertical-align: top;\n",
       "    }\n",
       "\n",
       "    .dataframe thead th {\n",
       "        text-align: right;\n",
       "    }\n",
       "</style>\n",
       "<table border=\"1\" class=\"dataframe\">\n",
       "  <thead>\n",
       "    <tr style=\"text-align: right;\">\n",
       "      <th></th>\n",
       "      <th>Folder</th>\n",
       "      <th>File</th>\n",
       "      <th>UserID</th>\n",
       "    </tr>\n",
       "  </thead>\n",
       "  <tbody>\n",
       "    <tr>\n",
       "      <th>5</th>\n",
       "      <td>right</td>\n",
       "      <td>8e523821_nohash_2.wav</td>\n",
       "      <td>8e523821</td>\n",
       "    </tr>\n",
       "    <tr>\n",
       "      <th>6</th>\n",
       "      <td>right</td>\n",
       "      <td>bb05582b_nohash_3.wav</td>\n",
       "      <td>bb05582b</td>\n",
       "    </tr>\n",
       "    <tr>\n",
       "      <th>7</th>\n",
       "      <td>right</td>\n",
       "      <td>988e2f9a_nohash_0.wav</td>\n",
       "      <td>988e2f9a</td>\n",
       "    </tr>\n",
       "    <tr>\n",
       "      <th>8</th>\n",
       "      <td>right</td>\n",
       "      <td>a69b9b3e_nohash_0.wav</td>\n",
       "      <td>a69b9b3e</td>\n",
       "    </tr>\n",
       "    <tr>\n",
       "      <th>9</th>\n",
       "      <td>right</td>\n",
       "      <td>1eddce1d_nohash_3.wav</td>\n",
       "      <td>1eddce1d</td>\n",
       "    </tr>\n",
       "    <tr>\n",
       "      <th>...</th>\n",
       "      <td>...</td>\n",
       "      <td>...</td>\n",
       "      <td>...</td>\n",
       "    </tr>\n",
       "    <tr>\n",
       "      <th>105836</th>\n",
       "      <td>four</td>\n",
       "      <td>25e95412_nohash_1.wav</td>\n",
       "      <td>25e95412</td>\n",
       "    </tr>\n",
       "    <tr>\n",
       "      <th>105837</th>\n",
       "      <td>four</td>\n",
       "      <td>92521ccc_nohash_0.wav</td>\n",
       "      <td>92521ccc</td>\n",
       "    </tr>\n",
       "    <tr>\n",
       "      <th>105838</th>\n",
       "      <td>four</td>\n",
       "      <td>29dce108_nohash_0.wav</td>\n",
       "      <td>29dce108</td>\n",
       "    </tr>\n",
       "    <tr>\n",
       "      <th>105839</th>\n",
       "      <td>four</td>\n",
       "      <td>c6389ab0_nohash_0.wav</td>\n",
       "      <td>c6389ab0</td>\n",
       "    </tr>\n",
       "    <tr>\n",
       "      <th>105840</th>\n",
       "      <td>four</td>\n",
       "      <td>845f8553_nohash_4.wav</td>\n",
       "      <td>845f8553</td>\n",
       "    </tr>\n",
       "  </tbody>\n",
       "</table>\n",
       "<p>105836 rows × 3 columns</p>\n",
       "</div>"
      ],
      "text/plain": [
       "       Folder                   File    UserID\n",
       "5       right  8e523821_nohash_2.wav  8e523821\n",
       "6       right  bb05582b_nohash_3.wav  bb05582b\n",
       "7       right  988e2f9a_nohash_0.wav  988e2f9a\n",
       "8       right  a69b9b3e_nohash_0.wav  a69b9b3e\n",
       "9       right  1eddce1d_nohash_3.wav  1eddce1d\n",
       "...       ...                    ...       ...\n",
       "105836   four  25e95412_nohash_1.wav  25e95412\n",
       "105837   four  92521ccc_nohash_0.wav  92521ccc\n",
       "105838   four  29dce108_nohash_0.wav  29dce108\n",
       "105839   four  c6389ab0_nohash_0.wav  c6389ab0\n",
       "105840   four  845f8553_nohash_4.wav  845f8553\n",
       "\n",
       "[105836 rows x 3 columns]"
      ]
     },
     "execution_count": 10,
     "metadata": {},
     "output_type": "execute_result"
    }
   ],
   "source": [
    "files_df"
   ]
  },
  {
   "cell_type": "code",
   "execution_count": 11,
   "metadata": {},
   "outputs": [
    {
     "data": {
      "text/plain": [
       "UserID\n",
       "c50f55b8    316\n",
       "893705bb    263\n",
       "cce7416f    250\n",
       "2aca1e72    236\n",
       "ddedba85    226\n",
       "           ... \n",
       "6c2dd2d5      1\n",
       "090efdc4      1\n",
       "66f07c09      1\n",
       "65303f47      1\n",
       "white         1\n",
       "Length: 2625, dtype: int64"
      ]
     },
     "execution_count": 11,
     "metadata": {},
     "output_type": "execute_result"
    }
   ],
   "source": [
    "files_df.value_counts('UserID')"
   ]
  },
  {
   "cell_type": "code",
   "execution_count": 12,
   "metadata": {},
   "outputs": [
    {
     "data": {
      "text/html": [
       "<div>\n",
       "<style scoped>\n",
       "    .dataframe tbody tr th:only-of-type {\n",
       "        vertical-align: middle;\n",
       "    }\n",
       "\n",
       "    .dataframe tbody tr th {\n",
       "        vertical-align: top;\n",
       "    }\n",
       "\n",
       "    .dataframe thead th {\n",
       "        text-align: right;\n",
       "    }\n",
       "</style>\n",
       "<table border=\"1\" class=\"dataframe\">\n",
       "  <thead>\n",
       "    <tr style=\"text-align: right;\">\n",
       "      <th></th>\n",
       "      <th>UserID</th>\n",
       "      <th>FileCount</th>\n",
       "    </tr>\n",
       "  </thead>\n",
       "  <tbody>\n",
       "    <tr>\n",
       "      <th>0</th>\n",
       "      <td>c50f55b8</td>\n",
       "      <td>316</td>\n",
       "    </tr>\n",
       "    <tr>\n",
       "      <th>1</th>\n",
       "      <td>893705bb</td>\n",
       "      <td>263</td>\n",
       "    </tr>\n",
       "    <tr>\n",
       "      <th>2</th>\n",
       "      <td>cce7416f</td>\n",
       "      <td>250</td>\n",
       "    </tr>\n",
       "    <tr>\n",
       "      <th>3</th>\n",
       "      <td>2aca1e72</td>\n",
       "      <td>236</td>\n",
       "    </tr>\n",
       "    <tr>\n",
       "      <th>4</th>\n",
       "      <td>ddedba85</td>\n",
       "      <td>226</td>\n",
       "    </tr>\n",
       "    <tr>\n",
       "      <th>...</th>\n",
       "      <td>...</td>\n",
       "      <td>...</td>\n",
       "    </tr>\n",
       "    <tr>\n",
       "      <th>2620</th>\n",
       "      <td>5b7cb31f</td>\n",
       "      <td>1</td>\n",
       "    </tr>\n",
       "    <tr>\n",
       "      <th>2621</th>\n",
       "      <td>d4b14f03</td>\n",
       "      <td>1</td>\n",
       "    </tr>\n",
       "    <tr>\n",
       "      <th>2622</th>\n",
       "      <td>73f0659a</td>\n",
       "      <td>1</td>\n",
       "    </tr>\n",
       "    <tr>\n",
       "      <th>2623</th>\n",
       "      <td>3fd21070</td>\n",
       "      <td>1</td>\n",
       "    </tr>\n",
       "    <tr>\n",
       "      <th>2624</th>\n",
       "      <td>ba770f9b</td>\n",
       "      <td>1</td>\n",
       "    </tr>\n",
       "  </tbody>\n",
       "</table>\n",
       "<p>2625 rows × 2 columns</p>\n",
       "</div>"
      ],
      "text/plain": [
       "        UserID  FileCount\n",
       "0     c50f55b8        316\n",
       "1     893705bb        263\n",
       "2     cce7416f        250\n",
       "3     2aca1e72        236\n",
       "4     ddedba85        226\n",
       "...        ...        ...\n",
       "2620  5b7cb31f          1\n",
       "2621  d4b14f03          1\n",
       "2622  73f0659a          1\n",
       "2623  3fd21070          1\n",
       "2624  ba770f9b          1\n",
       "\n",
       "[2625 rows x 2 columns]"
      ]
     },
     "execution_count": 12,
     "metadata": {},
     "output_type": "execute_result"
    }
   ],
   "source": [
    "user_file_counts = files_df['UserID'].value_counts().reset_index()\n",
    "user_file_counts.columns = ['UserID', 'FileCount']\n",
    "user_file_counts"
   ]
  },
  {
   "cell_type": "code",
   "execution_count": 13,
   "metadata": {},
   "outputs": [
    {
     "data": {
      "image/png": "[encoded data removed]",
      "text/plain": [
       "<Figure size 864x432 with 1 Axes>"
      ]
     },
     "metadata": {
      "needs_background": "light"
     },
     "output_type": "display_data"
    }
   ],
   "source": [
    "plt.figure(figsize=(12, 6))\n",
    "plt.bar(user_file_counts['UserID'], user_file_counts['FileCount'], color='skyblue')\n",
    "plt.xlabel('UserID')\n",
    "plt.ylabel('Number of Files')\n",
    "plt.title('Number of Files by UserID')\n",
    "plt.xticks(rotation=90)\n",
    "plt.show()"
   ]
  },
  {
   "cell_type": "code",
   "execution_count": 14,
   "metadata": {},
   "outputs": [
    {
     "data": {
      "image/png": "[encoded data removed]",
      "text/plain": [
       "<Figure size 864x432 with 1 Axes>"
      ]
     },
     "metadata": {
      "needs_background": "light"
     },
     "output_type": "display_data"
    }
   ],
   "source": [
    "plt.figure(figsize=(12, 6))\n",
    "plt.hist(user_file_counts['FileCount'], bins=50, color='skyblue', edgecolor='black')\n",
    "plt.xlabel('Number of Files')\n",
    "plt.ylabel('Number of Users')\n",
    "plt.title('Distribution of Number of Files per User')\n",
    "plt.show()"
   ]
  },
  {
   "cell_type": "code",
   "execution_count": 15,
   "metadata": {},
   "outputs": [
    {
     "data": {
      "text/html": [
       "<div>\n",
       "<style scoped>\n",
       "    .dataframe tbody tr th:only-of-type {\n",
       "        vertical-align: middle;\n",
       "    }\n",
       "\n",
       "    .dataframe tbody tr th {\n",
       "        vertical-align: top;\n",
       "    }\n",
       "\n",
       "    .dataframe thead th {\n",
       "        text-align: right;\n",
       "    }\n",
       "</style>\n",
       "<table border=\"1\" class=\"dataframe\">\n",
       "  <thead>\n",
       "    <tr style=\"text-align: right;\">\n",
       "      <th></th>\n",
       "      <th>Folder</th>\n",
       "      <th>FolderCount</th>\n",
       "    </tr>\n",
       "  </thead>\n",
       "  <tbody>\n",
       "    <tr>\n",
       "      <th>0</th>\n",
       "      <td>zero</td>\n",
       "      <td>4052</td>\n",
       "    </tr>\n",
       "    <tr>\n",
       "      <th>1</th>\n",
       "      <td>five</td>\n",
       "      <td>4052</td>\n",
       "    </tr>\n",
       "    <tr>\n",
       "      <th>2</th>\n",
       "      <td>yes</td>\n",
       "      <td>4044</td>\n",
       "    </tr>\n",
       "    <tr>\n",
       "      <th>3</th>\n",
       "      <td>seven</td>\n",
       "      <td>3998</td>\n",
       "    </tr>\n",
       "    <tr>\n",
       "      <th>4</th>\n",
       "      <td>no</td>\n",
       "      <td>3941</td>\n",
       "    </tr>\n",
       "    <tr>\n",
       "      <th>5</th>\n",
       "      <td>nine</td>\n",
       "      <td>3934</td>\n",
       "    </tr>\n",
       "    <tr>\n",
       "      <th>6</th>\n",
       "      <td>down</td>\n",
       "      <td>3917</td>\n",
       "    </tr>\n",
       "    <tr>\n",
       "      <th>7</th>\n",
       "      <td>one</td>\n",
       "      <td>3890</td>\n",
       "    </tr>\n",
       "    <tr>\n",
       "      <th>8</th>\n",
       "      <td>two</td>\n",
       "      <td>3880</td>\n",
       "    </tr>\n",
       "    <tr>\n",
       "      <th>9</th>\n",
       "      <td>go</td>\n",
       "      <td>3880</td>\n",
       "    </tr>\n",
       "    <tr>\n",
       "      <th>10</th>\n",
       "      <td>stop</td>\n",
       "      <td>3872</td>\n",
       "    </tr>\n",
       "    <tr>\n",
       "      <th>11</th>\n",
       "      <td>six</td>\n",
       "      <td>3860</td>\n",
       "    </tr>\n",
       "    <tr>\n",
       "      <th>12</th>\n",
       "      <td>on</td>\n",
       "      <td>3845</td>\n",
       "    </tr>\n",
       "    <tr>\n",
       "      <th>13</th>\n",
       "      <td>left</td>\n",
       "      <td>3801</td>\n",
       "    </tr>\n",
       "    <tr>\n",
       "      <th>14</th>\n",
       "      <td>eight</td>\n",
       "      <td>3787</td>\n",
       "    </tr>\n",
       "    <tr>\n",
       "      <th>15</th>\n",
       "      <td>right</td>\n",
       "      <td>3778</td>\n",
       "    </tr>\n",
       "    <tr>\n",
       "      <th>16</th>\n",
       "      <td>off</td>\n",
       "      <td>3745</td>\n",
       "    </tr>\n",
       "    <tr>\n",
       "      <th>17</th>\n",
       "      <td>four</td>\n",
       "      <td>3728</td>\n",
       "    </tr>\n",
       "    <tr>\n",
       "      <th>18</th>\n",
       "      <td>three</td>\n",
       "      <td>3727</td>\n",
       "    </tr>\n",
       "    <tr>\n",
       "      <th>19</th>\n",
       "      <td>up</td>\n",
       "      <td>3723</td>\n",
       "    </tr>\n",
       "    <tr>\n",
       "      <th>20</th>\n",
       "      <td>dog</td>\n",
       "      <td>2128</td>\n",
       "    </tr>\n",
       "    <tr>\n",
       "      <th>21</th>\n",
       "      <td>wow</td>\n",
       "      <td>2123</td>\n",
       "    </tr>\n",
       "    <tr>\n",
       "      <th>22</th>\n",
       "      <td>house</td>\n",
       "      <td>2113</td>\n",
       "    </tr>\n",
       "    <tr>\n",
       "      <th>23</th>\n",
       "      <td>marvin</td>\n",
       "      <td>2100</td>\n",
       "    </tr>\n",
       "    <tr>\n",
       "      <th>24</th>\n",
       "      <td>bird</td>\n",
       "      <td>2064</td>\n",
       "    </tr>\n",
       "    <tr>\n",
       "      <th>25</th>\n",
       "      <td>happy</td>\n",
       "      <td>2054</td>\n",
       "    </tr>\n",
       "    <tr>\n",
       "      <th>26</th>\n",
       "      <td>cat</td>\n",
       "      <td>2031</td>\n",
       "    </tr>\n",
       "    <tr>\n",
       "      <th>27</th>\n",
       "      <td>sheila</td>\n",
       "      <td>2022</td>\n",
       "    </tr>\n",
       "    <tr>\n",
       "      <th>28</th>\n",
       "      <td>bed</td>\n",
       "      <td>2014</td>\n",
       "    </tr>\n",
       "    <tr>\n",
       "      <th>29</th>\n",
       "      <td>tree</td>\n",
       "      <td>1759</td>\n",
       "    </tr>\n",
       "    <tr>\n",
       "      <th>30</th>\n",
       "      <td>backward</td>\n",
       "      <td>1664</td>\n",
       "    </tr>\n",
       "    <tr>\n",
       "      <th>31</th>\n",
       "      <td>visual</td>\n",
       "      <td>1592</td>\n",
       "    </tr>\n",
       "    <tr>\n",
       "      <th>32</th>\n",
       "      <td>follow</td>\n",
       "      <td>1579</td>\n",
       "    </tr>\n",
       "    <tr>\n",
       "      <th>33</th>\n",
       "      <td>learn</td>\n",
       "      <td>1575</td>\n",
       "    </tr>\n",
       "    <tr>\n",
       "      <th>34</th>\n",
       "      <td>forward</td>\n",
       "      <td>1557</td>\n",
       "    </tr>\n",
       "    <tr>\n",
       "      <th>35</th>\n",
       "      <td>_background_noise_</td>\n",
       "      <td>7</td>\n",
       "    </tr>\n",
       "  </tbody>\n",
       "</table>\n",
       "</div>"
      ],
      "text/plain": [
       "                Folder  FolderCount\n",
       "0                 zero         4052\n",
       "1                 five         4052\n",
       "2                  yes         4044\n",
       "3                seven         3998\n",
       "4                   no         3941\n",
       "5                 nine         3934\n",
       "6                 down         3917\n",
       "7                  one         3890\n",
       "8                  two         3880\n",
       "9                   go         3880\n",
       "10                stop         3872\n",
       "11                 six         3860\n",
       "12                  on         3845\n",
       "13                left         3801\n",
       "14               eight         3787\n",
       "15               right         3778\n",
       "16                 off         3745\n",
       "17                four         3728\n",
       "18               three         3727\n",
       "19                  up         3723\n",
       "20                 dog         2128\n",
       "21                 wow         2123\n",
       "22               house         2113\n",
       "23              marvin         2100\n",
       "24                bird         2064\n",
       "25               happy         2054\n",
       "26                 cat         2031\n",
       "27              sheila         2022\n",
       "28                 bed         2014\n",
       "29                tree         1759\n",
       "30            backward         1664\n",
       "31              visual         1592\n",
       "32              follow         1579\n",
       "33               learn         1575\n",
       "34             forward         1557\n",
       "35  _background_noise_            7"
      ]
     },
     "execution_count": 15,
     "metadata": {},
     "output_type": "execute_result"
    }
   ],
   "source": [
    "folder_counts = files_df['Folder'].value_counts().reset_index()\n",
    "folder_counts.columns = ['Folder', 'FolderCount']\n",
    "folder_counts"
   ]
  },
  {
   "cell_type": "code",
   "execution_count": 16,
   "metadata": {},
   "outputs": [
    {
     "data": {
      "image/png": "[encoded data removed]",
      "text/plain": [
       "<Figure size 864x432 with 1 Axes>"
      ]
     },
     "metadata": {
      "needs_background": "light"
     },
     "output_type": "display_data"
    }
   ],
   "source": [
    "plt.figure(figsize=(12, 6))\n",
    "plt.bar(folder_counts['Folder'], folder_counts['FolderCount'])\n",
    "plt.xlabel('Folder')\n",
    "plt.ylabel('Number of Files')\n",
    "plt.title('Number of Files by Folder')\n",
    "plt.xticks(rotation=90)\n",
    "plt.show()"
   ]
  },
  {
   "cell_type": "markdown",
   "metadata": {},
   "source": [
    "# Lets take a look at a wav file"
   ]
  },
  {
   "cell_type": "code",
   "execution_count": 17,
   "metadata": {},
   "outputs": [],
   "source": [
    "import torchaudio\n",
    "import torchaudio.transforms as T\n",
    "\n",
    "# Load the .wav file\n",
    "waveform, original_sample_rate = torchaudio.load('data_numbers_wav/one/0a2b400e_nohash_0.wav')\n",
    "\n",
    "# Resample to 8000 Hz\n",
    "resampler = T.Resample(orig_freq=original_sample_rate, new_freq=8000)\n",
    "waveform_resampled = resampler(waveform)"
   ]
  },
  {
   "cell_type": "code",
   "execution_count": 18,
   "metadata": {},
   "outputs": [
    {
     "name": "stdout",
     "output_type": "stream",
     "text": [
      "torch.Size([1, 8000])\n",
      "16000\n",
      "8000\n"
     ]
    }
   ],
   "source": [
    "print(waveform_resampled.shape)\n",
    "print(original_sample_rate)\n",
    "print(8000) "
   ]
  },
  {
   "cell_type": "code",
   "execution_count": 19,
   "metadata": {},
   "outputs": [],
   "source": [
    "mel_spectrogram_transform = T.MelSpectrogram(sample_rate=8000, n_mels=128)\n",
    "mel_spectrogram = mel_spectrogram_transform(waveform_resampled)"
   ]
  },
  {
   "cell_type": "code",
   "execution_count": 20,
   "metadata": {},
   "outputs": [
    {
     "data": {
      "image/png": "[encoded data removed]",
      "text/plain": [
       "<Figure size 720x288 with 2 Axes>"
      ]
     },
     "metadata": {
      "needs_background": "light"
     },
     "output_type": "display_data"
    }
   ],
   "source": [
    "mel_spectrogram_np = mel_spectrogram.squeeze().numpy()\n",
    "\n",
    "# Plot the Mel spectrogram\n",
    "plt.figure(figsize=(10, 4))\n",
    "plt.imshow(mel_spectrogram_np, aspect='auto', origin='lower')\n",
    "plt.colorbar(format='%+2.0f dB')\n",
    "plt.title('Mel Spectrogram')\n",
    "plt.xlabel('Time')\n",
    "plt.ylabel('Frequency')\n",
    "plt.show()"
   ]
  },
  {
   "cell_type": "code",
   "execution_count": 21,
   "metadata": {},
   "outputs": [
    {
     "data": {
      "image/png": "[encoded data removed]",
      "text/plain": [
       "<Figure size 720x288 with 1 Axes>"
      ]
     },
     "metadata": {
      "needs_background": "light"
     },
     "output_type": "display_data"
    }
   ],
   "source": [
    "waveform_np = waveform_resampled.squeeze().numpy()\n",
    "\n",
    "# Plot the waveform using waveshow\n",
    "plt.figure(figsize=(10, 4))\n",
    "plt.plot(waveform_np)\n",
    "plt.title('Waveform')\n",
    "plt.xlabel('Time')\n",
    "plt.ylabel('Amplitude')\n",
    "plt.show()"
   ]
  },
  {
   "cell_type": "markdown",
   "metadata": {},
   "source": [
    "# Creating subset for modeling"
   ]
  },
  {
   "cell_type": "code",
   "execution_count": 57,
   "metadata": {},
   "outputs": [],
   "source": [
    "def process_audio_folder(folder_path, label, target_sr=8000):\n",
    "    \n",
    "    # Initialize lists to store audio samples and labels\n",
    "    audio_samples = []\n",
    "    labels = []\n",
    "\n",
    "    # Loop through each file in the folder\n",
    "    for filename in os.listdir(folder_path):\n",
    "        if filename.endswith('.wav'):\n",
    "            # Load the audio file using torchaudio\n",
    "            file_path = os.path.join(folder_path, filename)\n",
    "            \n",
    "            waveform, original_sample_rate = torchaudio.load(file_path) #loads audio data in waveform and sample rate\n",
    "            resampler = T.Resample(orig_freq=original_sample_rate, new_freq=target_sr) #used to convert all sample rates from orig to 8000\n",
    "            waveform_resampled = resampler(waveform) #standardize all to 8000 \n",
    "\n",
    "            # Ensure waveform is exactly 8000 samples long\n",
    "            if waveform_resampled.shape[1] > 8000:\n",
    "                waveform_resampled = waveform_resampled[:, :8000] #change to 8000 again if not\n",
    "            elif waveform_resampled.shape[1] < 8000:\n",
    "                padding_size = 8000 - waveform_resampled.shape[1]\n",
    "                waveform_resampled = F.pad(waveform_resampled, (0, padding_size)) #if its shorter it fills with 0 to reach 8000\n",
    "\n",
    "            \n",
    "            # Add the tensor to the list of samples\n",
    "            audio_samples.append(waveform_resampled)\n",
    "            \n",
    "            # Add the corresponding label\n",
    "            # Convert the label to a one-hot encoded tensor\n",
    "            probabilities = [0.0 for i in range(10)]\n",
    "            probabilities[label] = 1.0\n",
    "            label_tensor = torch.tensor(probabilities, dtype=torch.float32)  # Ensure correct tensor creation\n",
    "            \n",
    "            # Add the one-hot encoded label tensor to the list\n",
    "            labels.append(label_tensor)\n",
    "\n",
    "    # Stack the samples and labels into tensors\n",
    "    audio_samples_tensor = torch.stack(audio_samples) # Shape: (n_samples, n_mel_bins, n_time_steps)\n",
    "    labels_tensor = torch.stack(labels) # Shape: (n_samples,)\n",
    "    \n",
    "    return audio_samples_tensor, labels_tensor"
   ]
  },
  {
   "cell_type": "code",
   "execution_count": 52,
   "metadata": {},
   "outputs": [
    {
     "data": {
      "text/plain": [
       "'\\n# Convert to Mel spectrogram\\nmel_spectrogram_transform = T.MelSpectrogram(sample_rate=target_sr)\\nmel_spectrogram = mel_spectrogram_transform(waveform_resampled)\\n            \\n# Convert the Mel spectrogram to a tensor\\nmel_tensor = mel_spectrogram.squeeze(0)  # Remove channel dimension if present\\n            \\n'"
      ]
     },
     "execution_count": 52,
     "metadata": {},
     "output_type": "execute_result"
    }
   ],
   "source": [
    "\"\"\"\n",
    "# Convert to Mel spectrogram\n",
    "mel_spectrogram_transform = T.MelSpectrogram(sample_rate=target_sr)\n",
    "mel_spectrogram = mel_spectrogram_transform(waveform_resampled)\n",
    "            \n",
    "# Convert the Mel spectrogram to a tensor\n",
    "mel_tensor = mel_spectrogram.squeeze(0)  # Remove channel dimension if present\n",
    "            \n",
    "\"\"\""
   ]
  },
  {
   "cell_type": "code",
   "execution_count": 58,
   "metadata": {},
   "outputs": [],
   "source": [
    "folder_path_one = 'data_raw/one'\n",
    "audio_samples_tensor_one, labels_tensor_one = process_audio_folder(folder_path_one, label=1)"
   ]
  },
  {
   "cell_type": "code",
   "execution_count": 61,
   "metadata": {},
   "outputs": [],
   "source": [
    "folder_path_one = 'data_raw/one'\n",
    "audio_samples_tensor_one, labels_tensor_one = process_audio_folder(folder_path_one, label=1)\n",
    "\n",
    "folder_path_two = 'data_raw/two'\n",
    "audio_samples_tensor_two, labels_tensor_two = process_audio_folder(folder_path_two, label=2)\n",
    "\n",
    "folder_path_three = 'data_raw/three'\n",
    "audio_samples_tensor_three, labels_tensor_three = process_audio_folder(folder_path_three, label=3)\n",
    "\n",
    "folder_path_four = 'data_raw/four'\n",
    "audio_samples_tensor_four, labels_tensor_four = process_audio_folder(folder_path_four, label=4)\n",
    "\n",
    "folder_path_five = 'data_raw/five'\n",
    "audio_samples_tensor_five, labels_tensor_five = process_audio_folder(folder_path_five, label=5)\n",
    "\n",
    "folder_path_six = 'data_raw/six'\n",
    "audio_samples_tensor_six, labels_tensor_six = process_audio_folder(folder_path_six, label=6)\n",
    "\n",
    "folder_path_seven = 'data_raw/seven'\n",
    "audio_samples_tensor_seven, labels_tensor_seven = process_audio_folder(folder_path_seven, label=7)\n",
    "\n",
    "folder_path_eight = 'data_raw/eight'\n",
    "audio_samples_tensor_eight, labels_tensor_eight = process_audio_folder(folder_path_eight, label=8)\n",
    "\n",
    "folder_path_nine = 'data_raw/nine'\n",
    "audio_samples_tensor_nine, labels_tensor_nine = process_audio_folder(folder_path_nine, label=9)\n",
    "\n",
    "folder_path_zero = 'data_raw/zero'\n",
    "audio_samples_tensor_zero, labels_tensor_zero = process_audio_folder(folder_path_zero, label=0)"
   ]
  },
  {
   "cell_type": "code",
   "execution_count": 62,
   "metadata": {},
   "outputs": [
    {
     "name": "stdout",
     "output_type": "stream",
     "text": [
      "torch.Size([3890, 1, 8000]) torch.Size([3890, 10])\n",
      "torch.Size([3880, 1, 8000]) torch.Size([3880, 10])\n",
      "torch.Size([3727, 1, 8000]) torch.Size([3727, 10])\n",
      "torch.Size([3728, 1, 8000]) torch.Size([3728, 10])\n",
      "torch.Size([4052, 1, 8000]) torch.Size([4052, 10])\n",
      "torch.Size([3860, 1, 8000]) torch.Size([3860, 10])\n",
      "torch.Size([3998, 1, 8000]) torch.Size([3998, 10])\n",
      "torch.Size([3787, 1, 8000]) torch.Size([3787, 10])\n",
      "torch.Size([3934, 1, 8000]) torch.Size([3934, 10])\n",
      "torch.Size([4052, 1, 8000]) torch.Size([4052, 10])\n"
     ]
    }
   ],
   "source": [
    "print(audio_samples_tensor_one.shape, labels_tensor_one.shape)\n",
    "print(audio_samples_tensor_two.shape, labels_tensor_two.shape)\n",
    "print(audio_samples_tensor_three.shape, labels_tensor_three.shape)\n",
    "print(audio_samples_tensor_four.shape, labels_tensor_four.shape)\n",
    "print(audio_samples_tensor_five.shape, labels_tensor_five.shape)\n",
    "print(audio_samples_tensor_six.shape, labels_tensor_six.shape)\n",
    "print(audio_samples_tensor_seven.shape, labels_tensor_seven.shape)\n",
    "print(audio_samples_tensor_eight.shape, labels_tensor_eight.shape)\n",
    "print(audio_samples_tensor_nine.shape, labels_tensor_nine.shape)\n",
    "print(audio_samples_tensor_zero.shape, labels_tensor_zero.shape)"
   ]
  },
  {
   "cell_type": "code",
   "execution_count": 64,
   "metadata": {},
   "outputs": [
    {
     "data": {
      "text/plain": [
       "tensor([[0., 1., 0.,  ..., 0., 0., 0.],\n",
       "        [0., 1., 0.,  ..., 0., 0., 0.],\n",
       "        [0., 1., 0.,  ..., 0., 0., 0.],\n",
       "        ...,\n",
       "        [0., 1., 0.,  ..., 0., 0., 0.],\n",
       "        [0., 1., 0.,  ..., 0., 0., 0.],\n",
       "        [0., 1., 0.,  ..., 0., 0., 0.]])"
      ]
     },
     "execution_count": 64,
     "metadata": {},
     "output_type": "execute_result"
    }
   ],
   "source": [
    "labels_tensor_one"
   ]
  },
  {
   "cell_type": "code",
   "execution_count": null,
   "metadata": {},
   "outputs": [],
   "source": []
  }
 ],
 "metadata": {
  "kernelspec": {
   "display_name": "Python 3",
   "language": "python",
   "name": "python3"
  },
  "language_info": {
   "codemirror_mode": {
    "name": "ipython",
    "version": 3
   },
   "file_extension": ".py",
   "mimetype": "text/x-python",
   "name": "python",
   "nbconvert_exporter": "python",
   "pygments_lexer": "ipython3",
   "version": "3.8.5"
  }
 },
 "nbformat": 4,
 "nbformat_minor": 4
}
